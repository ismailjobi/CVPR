{
  "nbformat": 4,
  "nbformat_minor": 0,
  "metadata": {
    "colab": {
      "provenance": []
    },
    "kernelspec": {
      "name": "python3",
      "display_name": "Python 3"
    },
    "language_info": {
      "name": "python"
    }
  },
  "cells": [
    {
      "cell_type": "code",
      "source": [
        "# Clone the GitHub repository\n",
        "!git clone https://github.com/YoongiKim/CIFAR-10-images.git\n",
        "\n",
        "# Move into the 'train' directory\n",
        "import os\n",
        "os.chdir('CIFAR-10-images/train')\n",
        "\n",
        "# Import necessary libraries\n",
        "import numpy as np\n",
        "import cv2\n",
        "\n",
        "# Initialize lists to store data\n",
        "image_data = []\n",
        "labels = []\n",
        "\n",
        "# Define the list of class names (subdirectory names)\n",
        "class_names = os.listdir()\n",
        "\n",
        "# Loop through each class (subdirectory)\n",
        "for class_name in class_names:\n",
        "    class_dir = os.path.join(os.getcwd(), class_name)\n",
        "\n",
        "    # List all files in the subdirectory\n",
        "    image_files = os.listdir(class_dir)\n",
        "\n",
        "    # Determine the label for this class\n",
        "    label = class_names.index(class_name)\n",
        "\n",
        "    # Loop through each image file in the subdirectory\n",
        "    for filename in image_files:\n",
        "        # Load the image in color\n",
        "        image_path = os.path.join(class_dir, filename)\n",
        "        color_image = cv2.imread(image_path)\n",
        "\n",
        "        # Convert the color image to grayscale\n",
        "        grayscale_image = cv2.cvtColor(color_image, cv2.COLOR_BGR2GRAY)\n",
        "\n",
        "        # Append the grayscale image and its label to the lists\n",
        "        image_data.append(grayscale_image)\n",
        "        labels.append(label)\n",
        "\n",
        "# Convert the lists to NumPy arrays\n",
        "image_data = np.array(image_data)\n",
        "labels = np.array(labels)\n",
        "\n",
        "# Check the shape of the image data and labels\n",
        "print(\"Image data shape:\", image_data.shape)\n",
        "print(\"Labels shape:\", labels.shape)"
      ],
      "metadata": {
        "colab": {
          "base_uri": "https://localhost:8080/"
        },
        "id": "U-o33q2RMZ1S",
        "outputId": "3cf94920-06cb-42be-80fe-bf6ea4d2bbf0"
      },
      "execution_count": 3,
      "outputs": [
        {
          "output_type": "stream",
          "name": "stdout",
          "text": [
            "Cloning into 'CIFAR-10-images'...\n",
            "remote: Enumerating objects: 60027, done.\u001b[K\n",
            "remote: Total 60027 (delta 0), reused 0 (delta 0), pack-reused 60027\u001b[K\n",
            "Receiving objects: 100% (60027/60027), 19.94 MiB | 54.45 MiB/s, done.\n",
            "Resolving deltas: 100% (59990/59990), done.\n",
            "Updating files: 100% (60001/60001), done.\n",
            "Image data shape: (50000, 32, 32)\n",
            "Labels shape: (50000,)\n"
          ]
        }
      ]
    }
  ]
}