{
  "nbformat": 4,
  "nbformat_minor": 0,
  "metadata": {
    "colab": {
      "provenance": []
    },
    "kernelspec": {
      "name": "python3",
      "display_name": "Python 3"
    },
    "language_info": {
      "name": "python"
    }
  },
  "cells": [
    {
      "cell_type": "code",
      "source": [
        "import os\n",
        "import cv2\n",
        "import matplotlib.pyplot as plt\n",
        "\n",
        "def load_grayscale_images_from_folder(folder_path):\n",
        "    image_dict = {}\n",
        "\n",
        "    for filename in os.listdir(folder_path):\n",
        "\n",
        "        if filename.endswith(('.jpg', '.jpeg', '.png', '.gif')):\n",
        "\n",
        "            label = os.path.splitext(filename)[0]\n",
        "            img = cv2.imread(os.path.join(folder_path, filename), cv2.IMREAD_GRAYSCALE)\n",
        "            image_dict[label] = img\n",
        "\n",
        "    return image_dict\n",
        "\n",
        "\n",
        "\n",
        "folder_path = '/content/drive/MyDrive/CVPR/airplane'\n",
        "\n",
        "image_dict = load_grayscale_images_from_folder(folder_path)\n",
        "\n",
        "print(image_dict['0001'])"
      ],
      "metadata": {
        "id": "zryfc_MpI8y_",
        "colab": {
          "base_uri": "https://localhost:8080/"
        },
        "outputId": "91e1ab2f-b27b-4e7c-a165-05ff99c9de36"
      },
      "execution_count": 6,
      "outputs": [
        {
          "output_type": "stream",
          "name": "stdout",
          "text": [
            "[[117 117 119 ... 117 114 111]\n",
            " [115 116 117 ... 118 115 113]\n",
            " [115 115 116 ... 119 117 115]\n",
            " ...\n",
            " [119 120 122 ... 127 109  99]\n",
            " [111 114 119 ... 123 124 114]\n",
            " [117 119 121 ... 123 115 110]]\n"
          ]
        }
      ]
    }
  ]
}